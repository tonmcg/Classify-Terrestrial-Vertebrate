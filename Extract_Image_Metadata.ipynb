{
 "cells": [
  {
   "cell_type": "code",
   "execution_count": 1,
   "metadata": {
    "collapsed": false
   },
   "outputs": [
    {
     "name": "stdout",
     "output_type": "stream",
     "text": [
      "last updated: Wed Feb 01 2017 \n",
      "\n",
      "CPython 3.5.2\n",
      "IPython 5.1.0\n",
      "\n",
      "pandas 0.19.1\n",
      "numpy 1.11.2\n",
      "exifread 2.1.2\n",
      "\n",
      "compiler   : GCC 4.2.1 Compatible Apple LLVM 4.2 (clang-425.0.28)\n",
      "system     : Darwin\n",
      "release    : 14.5.0\n",
      "machine    : x86_64\n",
      "processor  : i386\n",
      "CPU cores  : 4\n",
      "interpreter: 64bit\n"
     ]
    }
   ],
   "source": [
    "# https://github.com/rasbt/watermark\n",
    "%load_ext watermark\n",
    "%watermark -u -n -v -p pandas,numpy,exifread -m\n",
    "\n",
    "import exifread as ex\n",
    "import pandas as pd\n",
    "import numpy as np\n",
    "\n",
    "import os\n",
    "\n",
    "SPECIES_CLASSES = ['Loxodonta']"
   ]
  },
  {
   "cell_type": "code",
   "execution_count": 6,
   "metadata": {
    "collapsed": true
   },
   "outputs": [],
   "source": [
    "def get_tags(directory, species, filetype, random=0):\n",
    "    \"\"\"Load files from directory folder\"\"\"\n",
    "    \"\"\"Use os.walk() traversal method\"\"\"\n",
    "    image_data = []\n",
    "    for root, dirs, files in os.walk(directory+species):\n",
    "        for file in files:\n",
    "            if file.endswith(filetype):\n",
    "                print(os.path.join(root,file))\n",
    "                f = open(os.path.join(root,file),'rb')\n",
    "                tags = ex.process_file(f)\n",
    "                image_data.extend([tags])\n",
    "    return image_data"
   ]
  },
  {
   "cell_type": "code",
   "execution_count": 7,
   "metadata": {
    "collapsed": false,
    "scrolled": false
   },
   "outputs": [
    {
     "name": "stdout",
     "output_type": "stream",
     "text": [
      "/Users/Luxive/Desktop/photos/C3nHlmyW8AUBMPF.JPG\n"
     ]
    },
    {
     "data": {
      "text/html": [
       "<div>\n",
       "<table border=\"1\" class=\"dataframe\">\n",
       "  <thead>\n",
       "    <tr style=\"text-align: right;\">\n",
       "      <th></th>\n",
       "    </tr>\n",
       "  </thead>\n",
       "  <tbody>\n",
       "    <tr>\n",
       "      <th>0</th>\n",
       "    </tr>\n",
       "  </tbody>\n",
       "</table>\n",
       "</div>"
      ],
      "text/plain": [
       "Empty DataFrame\n",
       "Columns: []\n",
       "Index: [0]"
      ]
     },
     "execution_count": 7,
     "metadata": {},
     "output_type": "execute_result"
    }
   ],
   "source": [
    "# get all image metadata for each species\n",
    "\n",
    "# define images directory\n",
    "DROPBOX = \"/Users/Luxive/Dropbox/TEAM_Machine Learning/\"\n",
    "DROPBOX = '/Users/Luxive/Desktop/'\n",
    "\n",
    "SPECIES_CLASSES = ['photos']\n",
    "for species in SPECIES_CLASSES:\n",
    "    images_data = get_tags(DROPBOX,species,\".JPG\")\n",
    "\n",
    "df = pd.DataFrame(images_data)\n",
    "df"
   ]
  },
  {
   "cell_type": "code",
   "execution_count": null,
   "metadata": {
    "collapsed": true
   },
   "outputs": [],
   "source": []
  }
 ],
 "metadata": {
  "kernelspec": {
   "display_name": "Python 3",
   "language": "python",
   "name": "python3"
  },
  "language_info": {
   "codemirror_mode": {
    "name": "ipython",
    "version": 3
   },
   "file_extension": ".py",
   "mimetype": "text/x-python",
   "name": "python",
   "nbconvert_exporter": "python",
   "pygments_lexer": "ipython3",
   "version": "3.5.2"
  }
 },
 "nbformat": 4,
 "nbformat_minor": 2
}
